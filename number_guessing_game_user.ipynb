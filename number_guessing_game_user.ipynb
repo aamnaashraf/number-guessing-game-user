{
  "nbformat": 4,
  "nbformat_minor": 0,
  "metadata": {
    "colab": {
      "provenance": [],
      "authorship_tag": "ABX9TyMaAz/4BJSHCb0L1oawxjLo",
      "include_colab_link": true
    },
    "kernelspec": {
      "name": "python3",
      "display_name": "Python 3"
    },
    "language_info": {
      "name": "python"
    }
  },
  "cells": [
    {
      "cell_type": "markdown",
      "metadata": {
        "id": "view-in-github",
        "colab_type": "text"
      },
      "source": [
        "<a href=\"https://colab.research.google.com/github/aamnaashraf/number-guessing-game-user/blob/main/number_guessing_game_user.ipynb\" target=\"_parent\"><img src=\"https://colab.research.google.com/assets/colab-badge.svg\" alt=\"Open In Colab\"/></a>"
      ]
    },
    {
      "cell_type": "code",
      "execution_count": 1,
      "metadata": {
        "colab": {
          "base_uri": "https://localhost:8080/"
        },
        "id": "xjtebcgz82Bt",
        "outputId": "89356652-605b-430f-d6fa-e1be8c262f16"
      },
      "outputs": [
        {
          "output_type": "stream",
          "name": "stdout",
          "text": [
            "Welcome to the Number Guessing Game (User Version)!\n",
            "Think of a number between 1 and 100, and I'll try to guess it.\n",
            "Is your number 50?\n",
            "Enter 'h' if it's too high, 'l' if it's too low, or 'c' if it's correct: h\n",
            "Is your number 25?\n",
            "Enter 'h' if it's too high, 'l' if it's too low, or 'c' if it's correct: l\n",
            "Is your number 37?\n",
            "Enter 'h' if it's too high, 'l' if it's too low, or 'c' if it's correct: \n",
            "Invalid input! Please enter 'h', 'l', or 'c'.\n",
            "Is your number 37?\n",
            "Enter 'h' if it's too high, 'l' if it's too low, or 'c' if it's correct: l\n",
            "Is your number 43?\n",
            "Enter 'h' if it's too high, 'l' if it's too low, or 'c' if it's correct: h\n",
            "Is your number 40?\n",
            "Enter 'h' if it's too high, 'l' if it's too low, or 'c' if it's correct: c\n",
            "Yay! I guessed your number in 6 attempts!\n"
          ]
        }
      ],
      "source": [
        "def user_guessing_game():\n",
        "    print(\"Welcome to the Number Guessing Game (User Version)!\")\n",
        "    print(\"Think of a number between 1 and 100, and I'll try to guess it.\")\n",
        "\n",
        "    low = 1\n",
        "    high = 100\n",
        "    attempts = 0\n",
        "\n",
        "    while low <= high:\n",
        "        attempts += 1\n",
        "\n",
        "        computer_guess = (low + high) // 2\n",
        "        print(f\"Is your number {computer_guess}?\")\n",
        "\n",
        "\n",
        "        feedback = input(\"Enter 'h' if it's too high, 'l' if it's too low, or 'c' if it's correct: \").strip().lower()\n",
        "\n",
        "        if feedback == 'c':\n",
        "            print(f\"Yay! I guessed your number in {attempts} attempts!\")\n",
        "            return\n",
        "        elif feedback == 'h':\n",
        "            high = computer_guess - 1\n",
        "        elif feedback == 'l':\n",
        "            low = computer_guess + 1\n",
        "        else:\n",
        "            print(\"Invalid input! Please enter 'h', 'l', or 'c'.\")\n",
        "\n",
        "    print(\"Hmm, something went wrong. Did you think of a number outside the range?\")\n",
        "\n",
        "# Run the game\n",
        "user_guessing_game()"
      ]
    }
  ]
}